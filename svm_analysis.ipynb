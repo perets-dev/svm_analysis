{
 "cells": [
  {
   "cell_type": "markdown",
   "metadata": {},
   "source": [
    "# Сравнение алгоритмов SVM\n",
    "### цель: смоделировать данные 20newsgroup с помощью алгоритма linear scv"
   ]
  },
  {
   "cell_type": "markdown",
   "metadata": {},
   "source": [
    "#### импортируем библиотеки для обработки текста, для моделирования, для оптимизации с помощью hyperopt"
   ]
  },
  {
   "cell_type": "code",
   "execution_count": 1,
   "metadata": {},
   "outputs": [],
   "source": [
    "import numpy as np\n",
    "import pandas as pd\n",
    "import re\n",
    "from sklearn.feature_extraction.text import CountVectorizer\n",
    "from sklearn.feature_extraction.text import TfidfTransformer\n",
    "from sklearn.feature_extraction.text import TfidfVectorizer\n",
    "from sklearn.model_selection import cross_val_score\n",
    "from sklearn.datasets import fetch_20newsgroups"
   ]
  },
  {
   "cell_type": "code",
   "execution_count": 2,
   "metadata": {},
   "outputs": [],
   "source": [
    "import nltk\n",
    "from nltk.corpus import wordnet\n",
    "from nltk.stem import WordNetLemmatizer"
   ]
  },
  {
   "cell_type": "code",
   "execution_count": 3,
   "metadata": {},
   "outputs": [],
   "source": [
    "from hyperopt import hp\n",
    "from hyperopt import tpe\n",
    "from hyperopt import rand\n",
    "from hyperopt import Trials\n",
    "from hyperopt.fmin import fmin"
   ]
  },
  {
   "cell_type": "code",
   "execution_count": 4,
   "metadata": {},
   "outputs": [],
   "source": [
    "import pickle"
   ]
  },
  {
   "cell_type": "code",
   "execution_count": 5,
   "metadata": {},
   "outputs": [],
   "source": [
    "from sklearn.svm import LinearSVC\n",
    "from sklearn.svm import SVC\n",
    "from sklearn.svm import NuSVC"
   ]
  },
  {
   "cell_type": "code",
   "execution_count": 78,
   "metadata": {},
   "outputs": [],
   "source": [
    "import matplotlib.pyplot as plt\n",
    "%matplotlib inline"
   ]
  },
  {
   "cell_type": "code",
   "execution_count": 6,
   "metadata": {},
   "outputs": [],
   "source": [
    "train = fetch_20newsgroups(subset='train')\n",
    "test = fetch_20newsgroups(subset='test')"
   ]
  },
  {
   "cell_type": "markdown",
   "metadata": {},
   "source": [
    "### смотрим значения целевой переменной"
   ]
  },
  {
   "cell_type": "code",
   "execution_count": 5,
   "metadata": {
    "scrolled": false
   },
   "outputs": [
    {
     "name": "stdout",
     "output_type": "stream",
     "text": [
      "['alt.atheism', 'comp.graphics', 'comp.os.ms-windows.misc', 'comp.sys.ibm.pc.hardware', 'comp.sys.mac.hardware', 'comp.windows.x', 'misc.forsale', 'rec.autos', 'rec.motorcycles', 'rec.sport.baseball', 'rec.sport.hockey', 'sci.crypt', 'sci.electronics', 'sci.med', 'sci.space', 'soc.religion.christian', 'talk.politics.guns', 'talk.politics.mideast', 'talk.politics.misc', 'talk.religion.misc']\n"
     ]
    }
   ],
   "source": [
    "print(train['target_names'])"
   ]
  },
  {
   "cell_type": "code",
   "execution_count": 72,
   "metadata": {},
   "outputs": [
    {
     "name": "stdout",
     "output_type": "stream",
     "text": [
      "7\n"
     ]
    }
   ],
   "source": [
    "print(train['target'][17])"
   ]
  },
  {
   "cell_type": "markdown",
   "metadata": {},
   "source": [
    "### выводим пример"
   ]
  },
  {
   "cell_type": "code",
   "execution_count": 71,
   "metadata": {
    "scrolled": true
   },
   "outputs": [
    {
     "name": "stdout",
     "output_type": "stream",
     "text": [
      "From: CPKJP@vm.cc.latech.edu (Kevin Parker)\n",
      "Subject: Insurance Rates on Performance Cars SUMMARY\n",
      "Organization: Louisiana Tech University\n",
      "Lines: 244\n",
      "NNTP-Posting-Host: vm.cc.latech.edu\n",
      "X-Newsreader: NNR/VM S_1.3.2\n",
      "\n",
      "     I recently posted an article asking what kind of rates single, male\n",
      "drivers under 25 yrs old were paying on performance cars. Here's a summary of\n",
      "the replies I received.\n",
      " \n",
      " \n",
      " \n",
      " \n",
      "-------------------------------------------------------------------------------\n",
      " \n",
      "I'm not under 25 anymore (but is 27 close enough).\n",
      " \n",
      "1992 Dodge Stealth RT/Twin Turbo (300hp model).\n",
      "No tickets, no accidents, own a house, have taken defensive driving 1,\n",
      "airbag, abs, security alarm, single.\n",
      " \n",
      "$1500/year  $500 decut. State Farm Insurance (this includes the additional $100\n",
      "for the $1,000,000 umbrella policy over my car and house)  The base\n",
      "policy is the standard $100,000 - $100,000 - $300,000 policy required in DE.\n",
      " \n",
      "After 2nd defensive driving course it will be 5% less.\n",
      " \n",
      "I bought the car in September 1992.  The company I was with (never had\n",
      "and accident or ticket in 11 years) quoted me $2,500.\n",
      " \n",
      "Hope this helps.\n",
      " \n",
      "Steve Flynn\n",
      "University of Delaware\n",
      "======================================================================== 45\n",
      " \n",
      "    Kevin:\n",
      " \n",
      "    (Hope I remembered your name correctly)...\n",
      " \n",
      "    You asked about insurance for performance cars.  Well, last year\n",
      "    I was in a similar situation before I bought my car, and made the\n",
      "    same inquiry as you.\n",
      " \n",
      "    Age: 24 (then and now)\n",
      "    Car: 1992 Eagle Talon TSi AWD\n",
      "    Driving Record: Clean\n",
      "    State: Illinois\n",
      "    Cost: $820/6 mos.\n",
      " \n",
      "    I turn 25 in May and the insurance goes down to $520/6 mos.\n",
      "    Also, I'm single and that incurs a higher rate with my company.\n",
      " \n",
      "    I've got a couple other friends w/ AWDs and they pay more\n",
      "    than I do (different ins. companies also), so maybe I'm just lucky.\n",
      " \n",
      "    Hope the info helps.\n",
      " \n",
      "    Dan\n",
      "    [dans@jdc.gss.mot.com]\n",
      "    Motorola Cellular Subscriber Group\n",
      " \n",
      "======================================================================== 38\n",
      " USA\n",
      "Cc:\n",
      " \n",
      "I'm 23; live in Norman, Oklahoma; drive an '89 Thunderbird SC; have\n",
      "never made a claim against my insurance (though I have been hit\n",
      "several times by negligent drivers who couldn't see stop signs or\n",
      "were fiddling with their radios); and I have had three moving violations\n",
      "in the last 18 months (one for going 85 in a 55; one for \"failure to\n",
      "clear an intersection\" (I still say the damn light was yellow); and\n",
      "one for going 35 in a 25 (which didn't go on my record)). My rates\n",
      "from State Farm (with a passive restraint deduction) on liability,\n",
      "$500 deductible comprehensive, and $500 deductible collision are\n",
      "roughly $1300/year. (I was paying just over $1100/year for a '92 Escort LX.)\n",
      " \n",
      "\t\t\t\tJames\n",
      " \n",
      "James P. Callison    Microcomputer Coordinator, U of Oklahoma Law Center\n",
      "Callison@uokmax.ecn.uoknor.edu   /\\    Callison@aardvark.ucs.uoknor.edu\n",
      "DISCLAIMER: I'm not an engineer, but I play one at work...\n",
      "\t\tThe forecast calls for Thunder...'89 T-Bird SC\n",
      "   \"It's a hell of a thing, killing a man. You take away all he has\n",
      "\tand all he's ever gonna have.\"\n",
      "\t\t\t--Will Munny, \"Unforgiven\"\n",
      "======================================================================== 61\n",
      " \n",
      "I am beyond the \"under 25\" age group, but I have an experience a few\n",
      "years ago that might be interesting to you.  I owned a 1985 Toyota Celica\n",
      "GT.  I decided to buy myself a gift - a more exotic car.  Front runners\n",
      "included the Toyota Supra Turbo and the Porsche 924 (1987 model years).\n",
      "I narrowed it down to those two.  I liked the simplicity and handling\n",
      "(and snob appeal, too) of driving a Porsche.  The Supra Turbo was less\n",
      "money and had more features and performance - almost a personal luxury\n",
      "car.  It had better acceleration and a higher top speed than the 924.\n",
      "I was almost ready to give in to a buying impulse for the 924, but i\n",
      "decided to stop by my insurance agent's office on the way.  I asked\n",
      "about what would happen to my rate with either car.\n",
      " \n",
      "\"If you buy the Supra, your rate classification will be the same as\n",
      "the Celica (the '85 Celica was considered a subcompact and for that\n",
      "year was rated as one of the safest cars), with a slight increase because\n",
      "the car will be 2 years newer.  Our lower-risk division will continue\n",
      "to handle your account.\n",
      " \n",
      "\"If you buy the Porsche 924, we'll have to change you to the standard\n",
      "[higher] rate company and your rate will double.  And if you go with\n",
      "a 944, it's another story again - we'll cover the rest of this year,\n",
      "but cancel you after that.\"\n",
      " \n",
      "\"But the Supra is much faster than the 924, and the 924 is actually\n",
      "faster than the [standard] 944.  That doens't make sense.\"\n",
      " \n",
      " That's what the book says.  We don't insure Corvettes, either.  For\n",
      "some reason, the underwriters consider Supras - and their drivers -\n",
      "as very traditional and conservative.\"\n",
      " \n",
      "I eventually went with the Supra for a number of reasons.  The Porsche\n",
      "dealer had a nice salesman to get me interested, but a tough high-pressure\n",
      "guy in the back room.  At equal monthly payments, it would have taken\n",
      "a year longer to pay for the Porsche, plus its higher insurance.  I\n",
      "concluded that the high insurance was related to probability of auto\n",
      "theft.\n",
      " \n",
      "   /|/| /||)|/  /~ /\\| |\\|)[~|)/~   |   Everyone's entitled to MY opinion.\n",
      "  / | |/ ||\\|\\  \\_|\\/|_|/|)[_|\\\\_|  |      goldberg@oasys.dt.navy.mil\n",
      "========Imagination is more important than knowledge. - Albert Einstein=======\n",
      " \n",
      " \n",
      " \n",
      " \n",
      " \n",
      "======================================================================== 32\n",
      " \n",
      "I live in Idaho.  When I was <26 many years ago (10 years) I bought a Trans\n",
      "Am (new).  Insurance was about $1300/year.  When I turned 26, it immediately\n",
      "dropped to $460/year.  I had not had any accidents before or after, this was\n",
      "strictly an age change.  That same rate stayed pretty much the same until I\n",
      "sold the car 2 years ago.  My F-150 pickup is about $80/year less.\n",
      " \n",
      "The real amazing thing is that when I woke up at age 25, I felt SO MUCH MORE\n",
      "RESPONSIBLE than I was before...  :-)\n",
      " \n",
      "Wes\n",
      " \n",
      "======================================================================== 21\n",
      " \n",
      " \n",
      "For your information:\n",
      "California\n",
      "Male, single, under 25 , No moving violation\n",
      "Alfa Spider\n",
      "     =======> $2000 / year\n",
      " \n",
      "What a bargain!!!\n",
      "======================================================================== 28\n",
      " \n",
      "Let's see, I'm 24, single, male, clean driving record. I have a 92 VW COrrado\n",
      "VR6. I live in San Jose, California. I pay ~1500$ a year through Allstate. A\n",
      "good deal if you ask me.\n",
      " \n",
      "I was thinking about getting a Talon, but I think the insurance is higher\n",
      "for a \"turbo\" sports car vs a V6\n",
      " \n",
      "-W\n",
      " \n",
      "======================================================================== 27\n",
      " \n",
      "1986 Honda CRX Si, clean record, in a small New Mexico town was around $800\n",
      "per year, age 24.\n",
      " \n",
      "Nearby city rates were 1.5X-2X higher than where I've got mine insured.\n",
      " \n",
      "..robert\n",
      "--\n",
      "Robert Stack / Institute of Transportation Studies, Univ of California-Irvine\n",
      "               stack@translab.its.uci.edu   '92 Mazda Protege LX\n",
      "======================================================================== 37\n",
      "1300 per year, 1992 Saturn SC, 21 Years old, State: New Mexico,\n",
      "Insurance: State Farm.\n",
      " \n",
      " \n",
      "======================================================================== 64\n",
      " \n",
      " \n",
      "Here is my info:\n",
      " \n",
      "Car             : '89 Toyota Celica ST\n",
      "Insurance Co    : Farmer's Insurance\n",
      "Yearly insurance: $2028\n",
      "Age             : 24\n",
      "Date of license : Oct 14, 1992\n",
      "Residence       : Mountain View, California\n",
      "No moving violations (for now atleast ;-)\n",
      " \n",
      "Hope this helps. Please post a summary if possible.\n",
      " \n",
      "Vijay\n",
      "**********************************************************************\n",
      "Vijay Anisetti\n",
      "Email: anisetti@informix.com   Apt: (415)962-0320   Off: (415)926-6547\n",
      "======================================================================== 38\n",
      "Single, 24 years old, Eagle Talon Turbo AWD, $1200 (full-cover, reasonable\n",
      " liability)\n",
      "No tickets, No violations, No accidents... (knock on wood...)\n",
      "Mass,\n",
      " \n",
      "\tOne thing that makes a HUGE difference in MASS is the town you live in.\n",
      "I'm personally in one of the best towns within reasonable distance\n",
      "of Boston.  If I moved to the absolute best it would go down to about\n",
      "$1150, if I moved to the worst it would be $2000+..\n",
      " \n",
      "\tAlso one accident and a couple of tickets, would probably add another $600...\n",
      " \n",
      " \n",
      "\t_RV\n",
      " \n",
      " \n",
      "======================================================================== 43\n",
      "I have a 1990 Mitsubishi eclipse turbo awd, am 23 years old and have no\n",
      "tickets that went on my record.  I live in Illinois just outside of Chicago\n",
      "and pay $1560 a year with full coverage at State Farm.  I did get a small\n",
      "discount because of my alarm system($30 a year).  I only live 15 miles from\n",
      "Chicago but if I actually lived in the city the price would be about $2000\n",
      "a year.\n",
      "======================================================================== 41\n",
      "I'm over 25, but in case you're interested anyway, I'm insuring a 93 SHO\n",
      "for $287/6 month.  Thats 100k personal+300k total+100k property with\n",
      "250 deductible, glass and towing, State Farm.\n",
      " \n",
      "======================================================================== 39\n",
      " \n",
      "Unless you are under 20 or have been driving for less than 5\n",
      "years, I think you are being seriously ripped off.  I don't have\n",
      "one of the performance cars you listed, but if your record is\n",
      "clean, then you should not be paying over $2K.\n",
      " \n",
      "Did you try calling all the insurance dealers you could find?\n",
      "Although rates are supposed to be standardized, I've found that\n",
      "most places I initially call, give me some ridiculously high\n",
      "quote and *finaly*, I hit one that is much lower.\n",
      " \n",
      "Also, I have changed insurance companies when the rate went up at\n",
      "renewal (no accidents, tickets, car gets older??) to maintain a low\n",
      "rate.  You always have to be careful when it comes to insurance\n",
      "companies 8^).\n",
      " \n",
      "Good luck,\n",
      "Serge\n",
      "\n"
     ]
    }
   ],
   "source": [
    "print(train['data'][17])"
   ]
  },
  {
   "cell_type": "code",
   "execution_count": 8,
   "metadata": {},
   "outputs": [],
   "source": [
    "X_train, y_train = train.data, train.target\n",
    "X_test, y_test = test.data, test.target"
   ]
  },
  {
   "cell_type": "code",
   "execution_count": 7,
   "metadata": {},
   "outputs": [],
   "source": [
    "# функция удаления url адрессов\n",
    "def del_links(chat_string):\n",
    "    pattern = '(?:https?:\\/\\/)?(?:[\\w\\.]+)\\.(?:[a-z]{2,6}\\.?)(?:\\/[\\w\\.]*)*\\/?'\n",
    "    return re.sub(pattern, ' ', chat_string)\n",
    "# функция удаления стоп-слов\n",
    "def clean_stopwords(text):\n",
    "    stop_words = stopwords.words('english')\n",
    "    text = [word for word in text.split() if word not in stop_words]\n",
    "    return ' '.join(text)\n",
    "\n",
    "# функция удалениы эмодзи \n",
    "def remove_emoji(text):\n",
    "    emoji_pattern = re.compile(\"[\"\n",
    "                           u\"\\U0001F600-\\U0001F64F\"  # emoticons\n",
    "                           u\"\\U0001F300-\\U0001F5FF\"  # symbols & pictographs\n",
    "                           u\"\\U0001F680-\\U0001F6FF\"  # transport & map symbols\n",
    "                           u\"\\U0001F1E0-\\U0001F1FF\"  # flags (iOS)\n",
    "                           u\"\\U00002702-\\U000027B0\"\n",
    "                           u\"\\U000024C2-\\U0001F251\"\n",
    "                           \"]+\", flags=re.UNICODE)\n",
    "    return emoji_pattern.sub(r'', text)\n",
    "\n",
    "bad_words = ['aaa', 'aaaa', 'aaaaaaaaaaaa',\n",
    "             'aaaaaaaaaaaaaaaaaaaaaaaaaaaaaaauuuuuuuuuuuuuuuuuuuuuuuuuuuuuuuugggggggggggggggg',\n",
    "             'aaaaagggghhhh', 'aaaarrgghhhh', 'aaah', 'aaahhhh', 'aaai',\n",
    "             'aab', 'aacc', 'aachen', 'aaef', 'aah', 'aaj',\n",
    "             'aalac', 'aalborg', 'aalm', 'aamazing', 'aamir',\n",
    "             'aammmaaaazzzzzziinnnnggggg', 'aams', 'aan', 'aanbieden',\n",
    "             'aanerud', 'aangeboden', 'aangegeven', 'aangezien',\n",
    "             'aanp', 'aantal', 'aao', 'aaos', 'aap', 'aaph', 'aaplay',\n",
    "             'aar', 'aargh', 'aarghhhh', 'aarhus', 'aario',\n",
    "             'aarnet', 'aaron', 'aaronson', 'aarp', 'aarseth', 'aarskog',\n",
    "             'aart', 'aas', 'aasked', 'aatchoo', 'aau',\n",
    "             'aauwpiugyv', 'aav', 'aavb', 'aavso', 'aaw', 'aax', 'aayau', 'aazaadee',\n",
    "             'aazo', 'aba', 'ababs', 'abacus', 'abad',\n",
    "             'abaihm', 'abba', 'abbott', 'abbrev', 'abc',\n",
    "             'abcdef','abcdefghijklmnopqrstuvwxyz',\n",
    "             'abcpv', 'abd', 'abe', 'abed', 'abedk', 'abeel',\n",
    "             'abeit', 'abekas', 'abel', 'aben', 'abeoz', 'abfb', 'abfdefghiijklmmnohpp',\n",
    "             'abg', 'abrg', 'abri', 'acc', 'aef', 'aec', 'aeo']\n",
    "#функция удаления несуществующих слов\n",
    "def remove_nonexsistent(text):\n",
    "    words = [el for el in text.split() if el not in bad_words]\n",
    "    return ' '.join(words)\n",
    "    \n",
    "\n",
    "\n",
    "def lemming(text):\n",
    "    lemmatizer = WordNetLemmatizer()\n",
    "    tag_dict = {\"J\": wordnet.ADJ,\n",
    "                \"N\": wordnet.NOUN,\n",
    "                \"V\": wordnet.VERB,\n",
    "                \"R\": wordnet.ADV}\n",
    "    text = [lemmatizer.lemmatize(w[0], tag_dict.get(w[1][0], wordnet.NOUN)) for w in nltk.pos_tag(text.split())]\n",
    "    return ' '.join(text)\n",
    "\n",
    "# функция очистки текста\n",
    "def clean_text(text):\n",
    "    text = remove_nonexsistent(text)\n",
    "    #удалим эмодзи \n",
    "    text = remove_emoji(text)\n",
    "    #удалим url адресса\n",
    "    text = del_links(text)\n",
    "    # удалим все почтовые адреса\n",
    "    text = re.sub(r'([\\w0-9-._]+@[\\w0-9-.]+[\\w0-9]{2,3})', ' ', text)\n",
    "    # удалим все символы за исключением букв\n",
    "    text = re.sub(r'[^\\w\\s]+|[\\d]+|[\\_]', r' ', text)\n",
    "    # осуществим лемминг\n",
    "    text = lemming(text)\n",
    "    # удалим слова длины <3\n",
    "    text = ' '.join([word for word in text.split() if len(word)>2])\n",
    "    return text"
   ]
  },
  {
   "cell_type": "code",
   "execution_count": 11,
   "metadata": {},
   "outputs": [],
   "source": [
    "X_train = [clean_text(el) for el in X_train]"
   ]
  },
  {
   "cell_type": "code",
   "execution_count": 12,
   "metadata": {},
   "outputs": [],
   "source": [
    "X_test = [clean_text(el) for el in X_test]"
   ]
  },
  {
   "cell_type": "markdown",
   "metadata": {},
   "source": [
    "### сохраняем очищенные данные в файл (слишком много по времени идет очистка)"
   ]
  },
  {
   "cell_type": "code",
   "execution_count": 14,
   "metadata": {},
   "outputs": [],
   "source": [
    "with open('X_train.pkl', 'wb') as output:\n",
    "    pickle.dump(X_train, output, pickle.HIGHEST_PROTOCOL)"
   ]
  },
  {
   "cell_type": "code",
   "execution_count": 15,
   "metadata": {},
   "outputs": [],
   "source": [
    "with open('X_test.pkl', 'wb') as output:\n",
    "    pickle.dump(X_test, output, pickle.HIGHEST_PROTOCOL)"
   ]
  },
  {
   "cell_type": "code",
   "execution_count": 8,
   "metadata": {},
   "outputs": [],
   "source": [
    "#with open('X_train.pkl', 'rb') as output:\n",
    "#    X_train = pickle.load(output)\n",
    "#with open('X_test.pkl', 'rb') as output:\n",
    "#    X_test = pickle.load(output)\n",
    "#    \n",
    "#y_train = train.target\n",
    "#y_test = test.target"
   ]
  },
  {
   "cell_type": "code",
   "execution_count": 14,
   "metadata": {},
   "outputs": [],
   "source": []
  },
  {
   "cell_type": "code",
   "execution_count": 8,
   "metadata": {
    "scrolled": true
   },
   "outputs": [
    {
     "data": {
      "text/plain": [
       "'From NEIL GANDLER Subject Need info Bonneville Organization University Buffalo Lines News Software VAX VMS VNEWS Nntp Posting Host little confuse all the model the bonnevilles have hear the LSE SSE SSEI Could someone tell the difference far feature performance also curious know what the book value for prefereably the model And how much less than book value can you usually get them for other word how much they demand this time year have hear that the mid spring early summer the best time buy Neil Gandler'"
      ]
     },
     "execution_count": 8,
     "metadata": {},
     "output_type": "execute_result"
    }
   ],
   "source": [
    "X_test[0]"
   ]
  },
  {
   "cell_type": "code",
   "execution_count": null,
   "metadata": {},
   "outputs": [],
   "source": []
  },
  {
   "cell_type": "markdown",
   "metadata": {},
   "source": [
    "### Векторизируем тексты через tf-idf"
   ]
  },
  {
   "cell_type": "code",
   "execution_count": 9,
   "metadata": {},
   "outputs": [],
   "source": [
    "vect = TfidfVectorizer(lowercase=True, stop_words='english').fit(X_train)"
   ]
  },
  {
   "cell_type": "code",
   "execution_count": 10,
   "metadata": {},
   "outputs": [],
   "source": [
    "X_train = vect.transform(X_train)"
   ]
  },
  {
   "cell_type": "code",
   "execution_count": 11,
   "metadata": {},
   "outputs": [],
   "source": [
    "X_test = vect.transform(X_test)"
   ]
  },
  {
   "cell_type": "code",
   "execution_count": 12,
   "metadata": {
    "scrolled": true
   },
   "outputs": [
    {
     "data": {
      "text/plain": [
       "<11314x78669 sparse matrix of type '<class 'numpy.float64'>'\n",
       "\twith 1022666 stored elements in Compressed Sparse Row format>"
      ]
     },
     "execution_count": 12,
     "metadata": {},
     "output_type": "execute_result"
    }
   ],
   "source": [
    "X_train"
   ]
  },
  {
   "cell_type": "markdown",
   "metadata": {},
   "source": [
    "### моделируем данные с помощью LinearSVC"
   ]
  },
  {
   "cell_type": "code",
   "execution_count": 13,
   "metadata": {
    "scrolled": true
   },
   "outputs": [],
   "source": [
    "model = LinearSVC().fit(X_train, y_train)"
   ]
  },
  {
   "cell_type": "code",
   "execution_count": 17,
   "metadata": {
    "scrolled": true
   },
   "outputs": [
    {
     "data": {
      "text/plain": [
       "0.8459904407859798"
      ]
     },
     "execution_count": 17,
     "metadata": {},
     "output_type": "execute_result"
    }
   ],
   "source": [
    "model.score(X_test, y_test)"
   ]
  },
  {
   "cell_type": "code",
   "execution_count": 18,
   "metadata": {},
   "outputs": [],
   "source": [
    "with open('model_Linear_SVC.pkl', 'wb') as output:\n",
    "    pickle.dump(model, output, pickle.HIGHEST_PROTOCOL)"
   ]
  },
  {
   "cell_type": "markdown",
   "metadata": {},
   "source": [
    "### оптимизируем алгоритм с помощью hyperopt"
   ]
  },
  {
   "cell_type": "code",
   "execution_count": 14,
   "metadata": {},
   "outputs": [],
   "source": [
    "#domain space\n",
    "domain_linear_svc = {\n",
    "    'C': hp.uniform('C', 1, 20),\n",
    "    'penalty': hp.choice('penalty', ['l1', 'l2']),\n",
    "    'max_iter': hp.uniform('max_iter', 1000, 1100)\n",
    "}"
   ]
  },
  {
   "cell_type": "code",
   "execution_count": 15,
   "metadata": {},
   "outputs": [],
   "source": [
    "#objective function\n",
    "def objective_linear_svc(params):\n",
    "    linear_svc = LinearSVC(**params)\n",
    "    scr = cross_val_score(linear_svc, X_train, y_train, n_jobs=-1, cv=3).mean()\n",
    "    return -scr"
   ]
  },
  {
   "cell_type": "code",
   "execution_count": 16,
   "metadata": {},
   "outputs": [
    {
     "name": "stdout",
     "output_type": "stream",
     "text": [
      "100%|██████████| 6/6 [00:17<00:00,  2.89s/it, best loss: nan]\n",
      "best C, penalty, max_iter:  {'C': 6.0776180852830795, 'max_iter': 1084.8004338184767, 'penalty': 1}\n"
     ]
    }
   ],
   "source": [
    "trl = Trials()\n",
    "best = fmin(fn=objective_linear_svc, space=domain_linear_svc, algo=tpe.suggest, max_evals=6, trials=trl)\n",
    "print('best C, penalty, max_iter: ', end=' ')\n",
    "print(best)"
   ]
  },
  {
   "cell_type": "code",
   "execution_count": 18,
   "metadata": {},
   "outputs": [],
   "source": [
    "hyper_linear_svc = LinearSVC(C=6.077, max_iter=1085, penalty='l2').fit(X_train, y_train)"
   ]
  },
  {
   "cell_type": "code",
   "execution_count": 19,
   "metadata": {},
   "outputs": [
    {
     "data": {
      "text/plain": [
       "0.8385554965480616"
      ]
     },
     "execution_count": 19,
     "metadata": {},
     "output_type": "execute_result"
    }
   ],
   "source": [
    "hyper_linear_svc.score(X_test, y_test)"
   ]
  },
  {
   "cell_type": "markdown",
   "metadata": {},
   "source": [
    "### сохраняем оптимизированную модель в файл"
   ]
  },
  {
   "cell_type": "code",
   "execution_count": 20,
   "metadata": {},
   "outputs": [],
   "source": [
    "with open('hyper_linear_SVC.pkl', 'wb') as output:\n",
    "    pickle.dump(hyper_linear_svc, output, pickle.HIGHEST_PROTOCOL)"
   ]
  },
  {
   "cell_type": "markdown",
   "metadata": {},
   "source": [
    "### моделируем данные с помощью SVC poly kernel"
   ]
  },
  {
   "cell_type": "code",
   "execution_count": 17,
   "metadata": {},
   "outputs": [],
   "source": [
    "model = SVC(kernel='poly', degree=2).fit(X_train, y_train)"
   ]
  },
  {
   "cell_type": "code",
   "execution_count": 18,
   "metadata": {},
   "outputs": [
    {
     "data": {
      "text/plain": [
       "0.7603558151885289"
      ]
     },
     "execution_count": 18,
     "metadata": {},
     "output_type": "execute_result"
    }
   ],
   "source": [
    "model.score(X_test, y_test)"
   ]
  },
  {
   "cell_type": "markdown",
   "metadata": {},
   "source": [
    "### оптимизируем модель с помощью hyperopt"
   ]
  },
  {
   "cell_type": "code",
   "execution_count": 21,
   "metadata": {},
   "outputs": [],
   "source": [
    "#domain space\n",
    "domain_svc = {\n",
    "    'C': hp.uniform('C', 1, 100)\n",
    "}"
   ]
  },
  {
   "cell_type": "code",
   "execution_count": 22,
   "metadata": {},
   "outputs": [],
   "source": [
    "#objective function\n",
    "def objective_poly_svc(params):\n",
    "    svc = SVC(kernel='poly', degree=2)\n",
    "    scr = cross_val_score(svc, X_train, y_train, cv=3, n_jobs=-1).mean()\n",
    "    return -scr"
   ]
  },
  {
   "cell_type": "code",
   "execution_count": 25,
   "metadata": {},
   "outputs": [
    {
     "name": "stdout",
     "output_type": "stream",
     "text": [
      "100%|██████████| 10/10 [17:47<00:00, 106.75s/it, best loss: -0.8483295009007646]\n",
      "best C: {'C': 75.0696292790428}\n"
     ]
    }
   ],
   "source": [
    "trl = Trials()\n",
    "best = fmin(fn=objective_poly_svc, space=domain_svc, trials=trl, algo=tpe.suggest, max_evals=10)\n",
    "print('best C:', end=' ')\n",
    "print(best)"
   ]
  },
  {
   "cell_type": "code",
   "execution_count": 26,
   "metadata": {},
   "outputs": [],
   "source": [
    "hyper_poly_svc = SVC(kernel='poly', degree=2, C=75.0696292790428).fit(X_train, y_train)"
   ]
  },
  {
   "cell_type": "code",
   "execution_count": 27,
   "metadata": {},
   "outputs": [
    {
     "data": {
      "text/plain": [
       "0.7664630908125332"
      ]
     },
     "execution_count": 27,
     "metadata": {},
     "output_type": "execute_result"
    }
   ],
   "source": [
    "hyper_poly_svc.score(X_test, y_test)"
   ]
  },
  {
   "cell_type": "markdown",
   "metadata": {},
   "source": [
    "### Сохраняем модели в файл"
   ]
  },
  {
   "cell_type": "code",
   "execution_count": 30,
   "metadata": {},
   "outputs": [],
   "source": [
    "with open('hyper_SVC_poly_degree_2.pkl', 'wb') as output:\n",
    "    pickle.dump(hyper_poly_svc, output, pickle.HIGHEST_PROTOCOL)"
   ]
  },
  {
   "cell_type": "code",
   "execution_count": 29,
   "metadata": {},
   "outputs": [],
   "source": [
    "with open('model_SVC_poly_degree_2.pkl', 'wb') as output:\n",
    "    pickle.dump(model, output, pickle.HIGHEST_PROTOCOL)"
   ]
  },
  {
   "cell_type": "markdown",
   "metadata": {},
   "source": [
    "### моделируем данные с помощью SVC sigmoid kernel"
   ]
  },
  {
   "cell_type": "code",
   "execution_count": 31,
   "metadata": {},
   "outputs": [],
   "source": [
    "model = SVC(kernel='sigmoid').fit(X_train, y_train)"
   ]
  },
  {
   "cell_type": "code",
   "execution_count": 32,
   "metadata": {},
   "outputs": [
    {
     "data": {
      "text/plain": [
       "0.8284652150823154"
      ]
     },
     "execution_count": 32,
     "metadata": {},
     "output_type": "execute_result"
    }
   ],
   "source": [
    "model.score(X_test, y_test)"
   ]
  },
  {
   "cell_type": "markdown",
   "metadata": {},
   "source": [
    "### оптимизируем с помощью hyperopt"
   ]
  },
  {
   "cell_type": "code",
   "execution_count": 36,
   "metadata": {},
   "outputs": [],
   "source": [
    "#domain space\n",
    "domain_svc = {\n",
    "    'C': hp.uniform('C', 1, 100),\n",
    "    'max_iter': hp.uniform('max_iter', 1000, 1100)\n",
    "}"
   ]
  },
  {
   "cell_type": "code",
   "execution_count": 35,
   "metadata": {},
   "outputs": [],
   "source": [
    "#objective function\n",
    "def objective_sigmoid_svc(params):\n",
    "    svc = SVC(kernel='sigmoid')\n",
    "    scr = cross_val_score(svc, X_train, y_train, cv=3, n_jobs=-1).mean()\n",
    "    return -scr"
   ]
  },
  {
   "cell_type": "code",
   "execution_count": 37,
   "metadata": {},
   "outputs": [
    {
     "name": "stdout",
     "output_type": "stream",
     "text": [
      "100%|██████████| 10/10 [09:54<00:00, 59.40s/it, best loss: -0.9007426679711091]\n",
      "best C: {'C': 5.929299500939039, 'max_iter': 1043.948773972298}\n"
     ]
    }
   ],
   "source": [
    "trl = Trials()\n",
    "best = fmin(fn=objective_sigmoid_svc, space=domain_svc, trials=trl, algo=rand.suggest, max_evals=10)\n",
    "print('best:', end=' ')\n",
    "print(best)"
   ]
  },
  {
   "cell_type": "code",
   "execution_count": 41,
   "metadata": {},
   "outputs": [
    {
     "name": "stderr",
     "output_type": "stream",
     "text": [
      "/Users/sashaperetsiagin/anaconda3/envs/classic/lib/python3.7/site-packages/sklearn/svm/_base.py:231: ConvergenceWarning: Solver terminated early (max_iter=1044).  Consider pre-processing your data with StandardScaler or MinMaxScaler.\n",
      "  % self.max_iter, ConvergenceWarning)\n"
     ]
    }
   ],
   "source": [
    "hyper_sigmoid = SVC(kernel='sigmoid', C=5.929299500939039, max_iter=1044).fit(X_train, y_train)"
   ]
  },
  {
   "cell_type": "code",
   "execution_count": 42,
   "metadata": {},
   "outputs": [
    {
     "data": {
      "text/plain": [
       "0.8248805098247477"
      ]
     },
     "execution_count": 42,
     "metadata": {},
     "output_type": "execute_result"
    }
   ],
   "source": [
    "hyper_sigmoid.score(X_test, y_test)"
   ]
  },
  {
   "cell_type": "markdown",
   "metadata": {},
   "source": [
    "### сохраняем модели в файл"
   ]
  },
  {
   "cell_type": "code",
   "execution_count": 38,
   "metadata": {},
   "outputs": [],
   "source": [
    "with open('model_SVC_sigmoid.pkl', 'wb') as output:\n",
    "    pickle.dump(model, output, pickle.HIGHEST_PROTOCOL)"
   ]
  },
  {
   "cell_type": "code",
   "execution_count": 43,
   "metadata": {},
   "outputs": [],
   "source": [
    "with open('hyper_SVC_sigmoid.pkl', 'wb') as output:\n",
    "    pickle.dump(hyper_sigmoid, output, pickle.HIGHEST_PROTOCOL)"
   ]
  },
  {
   "cell_type": "markdown",
   "metadata": {},
   "source": [
    "### моделируем данные с помощью SVC rbf kernel"
   ]
  },
  {
   "cell_type": "code",
   "execution_count": 44,
   "metadata": {},
   "outputs": [],
   "source": [
    "model = SVC().fit(X_train, y_train)"
   ]
  },
  {
   "cell_type": "code",
   "execution_count": 45,
   "metadata": {},
   "outputs": [
    {
     "data": {
      "text/plain": [
       "0.821959638874137"
      ]
     },
     "execution_count": 45,
     "metadata": {},
     "output_type": "execute_result"
    }
   ],
   "source": [
    "model.score(X_test, y_test)"
   ]
  },
  {
   "cell_type": "markdown",
   "metadata": {},
   "source": [
    "### оптимизируем с помощью hyperopt"
   ]
  },
  {
   "cell_type": "code",
   "execution_count": 47,
   "metadata": {},
   "outputs": [],
   "source": [
    "#domain space\n",
    "domain_svc = {\n",
    "    'C': hp.uniform('C', 1, 100),\n",
    "    'max_iter': hp.uniform('max_iter', 1000, 1100)\n",
    "}"
   ]
  },
  {
   "cell_type": "code",
   "execution_count": 49,
   "metadata": {},
   "outputs": [],
   "source": [
    "#objective function\n",
    "def objective_rbf_svc(params):\n",
    "    svc = SVC()\n",
    "    scr = cross_val_score(svc, X_train, y_train, cv=3, n_jobs=-1).mean()\n",
    "    return -scr"
   ]
  },
  {
   "cell_type": "code",
   "execution_count": 50,
   "metadata": {},
   "outputs": [
    {
     "name": "stdout",
     "output_type": "stream",
     "text": [
      "100%|██████████| 10/10 [17:30<00:00, 105.05s/it, best loss: -0.8910205828390821]\n",
      "best: {'C': 8.485320006385479, 'max_iter': 1034.8041954505939}\n"
     ]
    }
   ],
   "source": [
    "trl = Trials()\n",
    "best = fmin(fn=objective_rbf_svc, space=domain_svc, trials=trl, algo=rand.suggest, max_evals=10)\n",
    "print('best:', end=' ')\n",
    "print(best)"
   ]
  },
  {
   "cell_type": "code",
   "execution_count": 51,
   "metadata": {},
   "outputs": [
    {
     "name": "stderr",
     "output_type": "stream",
     "text": [
      "/Users/sashaperetsiagin/anaconda3/envs/classic/lib/python3.7/site-packages/sklearn/svm/_base.py:231: ConvergenceWarning: Solver terminated early (max_iter=1035).  Consider pre-processing your data with StandardScaler or MinMaxScaler.\n",
      "  % self.max_iter, ConvergenceWarning)\n"
     ]
    }
   ],
   "source": [
    "hyper_rbf = SVC(C=8.485320006385479, max_iter=1035).fit(X_train, y_train)"
   ]
  },
  {
   "cell_type": "code",
   "execution_count": 52,
   "metadata": {},
   "outputs": [
    {
     "data": {
      "text/plain": [
       "0.8271375464684015"
      ]
     },
     "execution_count": 52,
     "metadata": {},
     "output_type": "execute_result"
    }
   ],
   "source": [
    "hyper_rbf.score(X_test, y_test)"
   ]
  },
  {
   "cell_type": "markdown",
   "metadata": {},
   "source": [
    "### сохраняем модели в файл"
   ]
  },
  {
   "cell_type": "code",
   "execution_count": 46,
   "metadata": {},
   "outputs": [],
   "source": [
    "with open('model_rbf_kernel.pkl', 'wb') as output:\n",
    "    pickle.dump(model, output, pickle.HIGHEST_PROTOCOL)"
   ]
  },
  {
   "cell_type": "code",
   "execution_count": 53,
   "metadata": {},
   "outputs": [],
   "source": [
    "with open('hyper_rbf_kernel.pkl', 'wb') as output:\n",
    "    pickle.dump(hyper_rbf, output, pickle.HIGHEST_PROTOCOL)"
   ]
  },
  {
   "cell_type": "code",
   "execution_count": 65,
   "metadata": {},
   "outputs": [
    {
     "name": "stdout",
     "output_type": "stream",
     "text": [
      "Minimum loss:-0.8910\n"
     ]
    }
   ],
   "source": [
    "print('Minimum loss:{:.4f}'.format(trl.best_trial['result']['loss']))"
   ]
  },
  {
   "cell_type": "markdown",
   "metadata": {},
   "source": [
    "### выведем результаты hyperopt модели svc rbf kernel"
   ]
  },
  {
   "cell_type": "code",
   "execution_count": 66,
   "metadata": {},
   "outputs": [
    {
     "data": {
      "text/plain": [
       "[{'loss': -0.8910205828390821, 'status': 'ok'},\n",
       " {'loss': -0.8910205828390821, 'status': 'ok'},\n",
       " {'loss': -0.8910205828390821, 'status': 'ok'},\n",
       " {'loss': -0.8910205828390821, 'status': 'ok'},\n",
       " {'loss': -0.8910205828390821, 'status': 'ok'},\n",
       " {'loss': -0.8910205828390821, 'status': 'ok'},\n",
       " {'loss': -0.8910205828390821, 'status': 'ok'},\n",
       " {'loss': -0.8910205828390821, 'status': 'ok'},\n",
       " {'loss': -0.8910205828390821, 'status': 'ok'},\n",
       " {'loss': -0.8910205828390821, 'status': 'ok'}]"
      ]
     },
     "execution_count": 66,
     "metadata": {},
     "output_type": "execute_result"
    }
   ],
   "source": [
    "trl.results"
   ]
  },
  {
   "cell_type": "code",
   "execution_count": 68,
   "metadata": {},
   "outputs": [
    {
     "data": {
      "text/plain": [
       "({'C': [0, 1, 2, 3, 4, 5, 6, 7, 8, 9],\n",
       "  'max_iter': [0, 1, 2, 3, 4, 5, 6, 7, 8, 9]},\n",
       " {'C': [8.485320006385479,\n",
       "   95.7958812824337,\n",
       "   79.70668178881334,\n",
       "   70.57025288860919,\n",
       "   17.85357218710679,\n",
       "   10.342067577520401,\n",
       "   83.29726103973543,\n",
       "   94.25104313026078,\n",
       "   89.48999848721958,\n",
       "   91.69160438026877],\n",
       "  'max_iter': [1034.8041954505939,\n",
       "   1069.8375786803094,\n",
       "   1040.368006042215,\n",
       "   1091.7266185248307,\n",
       "   1001.700201873029,\n",
       "   1062.781817012842,\n",
       "   1096.0325035892527,\n",
       "   1000.4437622922317,\n",
       "   1062.2629187775974,\n",
       "   1098.4389938623224]})"
      ]
     },
     "execution_count": 68,
     "metadata": {},
     "output_type": "execute_result"
    }
   ],
   "source": [
    "trl.idxs_vals"
   ]
  },
  {
   "cell_type": "code",
   "execution_count": 82,
   "metadata": {},
   "outputs": [],
   "source": [
    "tpe_results = pd.DataFrame({'loss': [x['loss'] for x in trl.results],\n",
    "                            'iteration': trl.idxs_vals[0]['C'],\n",
    "                            'C': trl.idxs_vals[1]['C']})"
   ]
  },
  {
   "cell_type": "code",
   "execution_count": 88,
   "metadata": {},
   "outputs": [
    {
     "data": {
      "text/html": [
       "<div>\n",
       "<style scoped>\n",
       "    .dataframe tbody tr th:only-of-type {\n",
       "        vertical-align: middle;\n",
       "    }\n",
       "\n",
       "    .dataframe tbody tr th {\n",
       "        vertical-align: top;\n",
       "    }\n",
       "\n",
       "    .dataframe thead th {\n",
       "        text-align: right;\n",
       "    }\n",
       "</style>\n",
       "<table border=\"1\" class=\"dataframe\">\n",
       "  <thead>\n",
       "    <tr style=\"text-align: right;\">\n",
       "      <th></th>\n",
       "      <th>loss</th>\n",
       "      <th>iteration</th>\n",
       "      <th>C</th>\n",
       "    </tr>\n",
       "  </thead>\n",
       "  <tbody>\n",
       "    <tr>\n",
       "      <th>0</th>\n",
       "      <td>-0.891021</td>\n",
       "      <td>0</td>\n",
       "      <td>8.485320</td>\n",
       "    </tr>\n",
       "    <tr>\n",
       "      <th>1</th>\n",
       "      <td>-0.891021</td>\n",
       "      <td>1</td>\n",
       "      <td>95.795881</td>\n",
       "    </tr>\n",
       "    <tr>\n",
       "      <th>2</th>\n",
       "      <td>-0.891021</td>\n",
       "      <td>2</td>\n",
       "      <td>79.706682</td>\n",
       "    </tr>\n",
       "    <tr>\n",
       "      <th>3</th>\n",
       "      <td>-0.891021</td>\n",
       "      <td>3</td>\n",
       "      <td>70.570253</td>\n",
       "    </tr>\n",
       "    <tr>\n",
       "      <th>4</th>\n",
       "      <td>-0.891021</td>\n",
       "      <td>4</td>\n",
       "      <td>17.853572</td>\n",
       "    </tr>\n",
       "  </tbody>\n",
       "</table>\n",
       "</div>"
      ],
      "text/plain": [
       "       loss  iteration          C\n",
       "0 -0.891021          0   8.485320\n",
       "1 -0.891021          1  95.795881\n",
       "2 -0.891021          2  79.706682\n",
       "3 -0.891021          3  70.570253\n",
       "4 -0.891021          4  17.853572"
      ]
     },
     "execution_count": 88,
     "metadata": {},
     "output_type": "execute_result"
    }
   ],
   "source": [
    "tpe_results.head()"
   ]
  },
  {
   "cell_type": "markdown",
   "metadata": {},
   "source": [
    "### выводим график зависимости кол-во итераций от значения С: был использован алгоритм rand.suggest, поэтому сходимости в кластеры нет"
   ]
  },
  {
   "cell_type": "code",
   "execution_count": 91,
   "metadata": {},
   "outputs": [
    {
     "data": {
      "image/png": "[encoded data removed]",
      "text/plain": [
       "<Figure size 720x576 with 1 Axes>"
      ]
     },
     "metadata": {
      "needs_background": "light"
     },
     "output_type": "display_data"
    }
   ],
   "source": [
    "plt.figure(figsize = (10, 8));\n",
    "plt.plot(tpe_results['iteration'], tpe_results['C'],  'bo', alpha = 0.5);\n",
    "plt.xlabel('Iteration', size = 22);\n",
    "plt.ylabel('C value', size = 22);\n",
    "plt.title('Random Sequence of Values', size = 24);\n",
    "plt.savefig('random_sequence.png')"
   ]
  },
  {
   "cell_type": "markdown",
   "metadata": {},
   "source": [
    "### Вывод: с помощью обычной линейной модели LinearSVC мы предсказываем относительно неплохой результат (около 83), оптимизация гиперпараметров с помощью hyperopt не сильно повлияла на результат"
   ]
  }
 ],
 "metadata": {
  "kernelspec": {
   "display_name": "Python 3",
   "language": "python",
   "name": "python3"
  },
  "language_info": {
   "codemirror_mode": {
    "name": "ipython",
    "version": 3
   },
   "file_extension": ".py",
   "mimetype": "text/x-python",
   "name": "python",
   "nbconvert_exporter": "python",
   "pygments_lexer": "ipython3",
   "version": "3.7.6"
  }
 },
 "nbformat": 4,
 "nbformat_minor": 2
}
